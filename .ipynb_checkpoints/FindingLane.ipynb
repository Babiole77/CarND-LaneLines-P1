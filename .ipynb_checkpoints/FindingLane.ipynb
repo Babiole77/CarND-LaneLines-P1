{
 "cells": [
  {
   "cell_type": "markdown",
   "metadata": {},
   "source": [
    "# Self-Driving Car Engineer Nanodegree\n",
    "\n",
    "\n",
    "## Project: **Finding Lane Lines on the Road** \n",
    "***\n",
    "In this project, you will use the tools you learned about in the lesson to identify lane lines on the road.  You can develop your pipeline on a series of individual images, and later apply the result to a video stream (really just a series of images). Check out the video clip \"raw-lines-example.mp4\" (also contained in this repository) to see what the output should look like after using the helper functions below. \n",
    "\n",
    "Once you have a result that looks roughly like \"raw-lines-example.mp4\", you'll need to get creative and try to average and/or extrapolate the line segments you've detected to map out the full extent of the lane lines.  You can see an example of the result you're going for in the video \"P1_example.mp4\".  Ultimately, you would like to draw just one line for the left side of the lane, and one for the right.\n",
    "\n",
    "In addition to implementing code, there is a brief writeup to complete. The writeup should be completed in a separate file, which can be either a markdown file or a pdf document. There is a [write up template](https://github.com/udacity/CarND-LaneLines-P1/blob/master/writeup_template.md) that can be used to guide the writing process. Completing both the code in the Ipython notebook and the writeup template will cover all of the [rubric points](https://review.udacity.com/#!/rubrics/322/view) for this project.\n",
    "\n",
    "---\n",
    "Let's have a look at our first image called 'test_images/solidWhiteRight.jpg'.  Run the 2 cells below (hit Shift-Enter or the \"play\" button above) to display the image.\n",
    "\n",
    "**Note: If, at any point, you encounter frozen display windows or other confounding issues, you can always start again with a clean slate by going to the \"Kernel\" menu above and selecting \"Restart & Clear Output\".**\n",
    "\n",
    "---"
   ]
  },
  {
   "cell_type": "markdown",
   "metadata": {},
   "source": [
    "**The tools you have are color selection, region of interest selection, grayscaling, Gaussian smoothing, Canny Edge Detection and Hough Tranform line detection.  You  are also free to explore and try other techniques that were not presented in the lesson.  Your goal is piece together a pipeline to detect the line segments in the image, then average/extrapolate them and draw them onto the image for display (as below).  Once you have a working pipeline, try it out on the video stream below.**\n",
    "\n",
    "---\n",
    "\n",
    "<figure>\n",
    " <img src=\"examples/line-segments-example.jpg\" width=\"380\" alt=\"Combined Image\" />\n",
    " <figcaption>\n",
    " <p></p> \n",
    " <p style=\"text-align: center;\"> Your output should look something like this (above) after detecting line segments using the helper functions below </p> \n",
    " </figcaption>\n",
    "</figure>\n",
    " <p></p> \n",
    "<figure>\n",
    " <img src=\"examples/laneLines_thirdPass.jpg\" width=\"380\" alt=\"Combined Image\" />\n",
    " <figcaption>\n",
    " <p></p> \n",
    " <p style=\"text-align: center;\"> Your goal is to connect/average/extrapolate line segments to get output like this</p> \n",
    " </figcaption>\n",
    "</figure>"
   ]
  },
  {
   "cell_type": "markdown",
   "metadata": {},
   "source": [
    "**Run the cell below to import some packages.  If you get an `import error` for a package you've already installed, try changing your kernel (select the Kernel menu above --> Change Kernel).  Still have problems?  Try relaunching Jupyter Notebook from the terminal prompt.  Also, consult the forums for more troubleshooting tips.**  "
   ]
  },
  {
   "cell_type": "markdown",
   "metadata": {},
   "source": [
    "## Import Packages"
   ]
  },
  {
   "cell_type": "code",
   "execution_count": 1,
   "metadata": {
    "collapsed": false
   },
   "outputs": [],
   "source": [
    "#importing some useful packages\n",
    "import matplotlib.pyplot as plt\n",
    "import matplotlib.image as mpimg\n",
    "import numpy as np\n",
    "import cv2\n",
    "%matplotlib inline"
   ]
  },
  {
   "cell_type": "markdown",
   "metadata": {},
   "source": [
    "## Read in an Image"
   ]
  },
  {
   "cell_type": "code",
   "execution_count": 2,
   "metadata": {
    "collapsed": false
   },
   "outputs": [],
   "source": [
    "#reading in an image\n",
    "#image = mpimg.imread('test_images/solidWhiteRight.jpg')\n",
    "\n",
    "#printing out some stats and plotting\n",
    "#print('This image is:', type(image), 'with dimensions:', image.shape)\n",
    "#plt.imshow(image)  # if you wanted to show a single color channel image called 'gray', for example, call as plt.imshow(gray, cmap='gray')"
   ]
  },
  {
   "cell_type": "markdown",
   "metadata": {},
   "source": [
    "## Ideas for Lane Detection Pipeline"
   ]
  },
  {
   "cell_type": "markdown",
   "metadata": {},
   "source": [
    "**Some OpenCV functions (beyond those introduced in the lesson) that might be useful for this project are:**\n",
    "\n",
    "`cv2.inRange()` for color selection  \n",
    "`cv2.fillPoly()` for regions selection  \n",
    "`cv2.line()` to draw lines on an image given endpoints  \n",
    "`cv2.addWeighted()` to coadd / overlay two images\n",
    "`cv2.cvtColor()` to grayscale or change color\n",
    "`cv2.imwrite()` to output images to file  \n",
    "`cv2.bitwise_and()` to apply a mask to an image\n",
    "\n",
    "**Check out the OpenCV documentation to learn about these and discover even more awesome functionality!**"
   ]
  },
  {
   "cell_type": "markdown",
   "metadata": {},
   "source": [
    "## Helper Functions"
   ]
  },
  {
   "cell_type": "markdown",
   "metadata": {},
   "source": [
    "Below are some helper functions to help get you started. They should look familiar from the lesson!"
   ]
  },
  {
   "cell_type": "code",
   "execution_count": 29,
   "metadata": {
    "collapsed": false
   },
   "outputs": [],
   "source": [
    "import math\n",
    "\n",
    "def grayscale(img):\n",
    "    \"\"\"Applies the Grayscale transform\n",
    "    This will return an image with only one color channel\n",
    "    but NOTE: to see the returned image as grayscale\n",
    "    (assuming your grayscaled image is called 'gray')\n",
    "    you should call plt.imshow(gray, cmap='gray')\"\"\"\n",
    "    return cv2.cvtColor(img, cv2.COLOR_RGB2GRAY)\n",
    "    # Or use BGR2GRAY if you read an image with cv2.imread()\n",
    "    # return cv2.cvtColor(img, cv2.COLOR_BGR2GRAY)\n",
    "    \n",
    "def canny(img, low_threshold, high_threshold):\n",
    "    \"\"\"Applies the Canny transform\"\"\"\n",
    "    return cv2.Canny(img, low_threshold, high_threshold)\n",
    "\n",
    "def gaussian_blur(img, kernel_size):\n",
    "    \"\"\"Applies a Gaussian Noise kernel\"\"\"\n",
    "    return cv2.GaussianBlur(img, (kernel_size, kernel_size), 0)\n",
    "\n",
    "def region_of_interest(img, vertices):\n",
    "    \"\"\"\n",
    "    Applies an image mask.\n",
    "    \n",
    "    Only keeps the region of the image defined by the polygon\n",
    "    formed from `vertices`. The rest of the image is set to black.\n",
    "    `vertices` should be a numpy array of integer points.\n",
    "    \"\"\"\n",
    "    #defining a blank mask to start with\n",
    "    mask = np.zeros_like(img)   \n",
    "    \n",
    "    #defining a 3 channel or 1 channel color to fill the mask with depending on the input image\n",
    "    if len(img.shape) > 2:\n",
    "        channel_count = img.shape[2]  # i.e. 3 or 4 depending on your image\n",
    "        ignore_mask_color = (255,) * channel_count\n",
    "    else:\n",
    "        ignore_mask_color = 255\n",
    "        \n",
    "    #filling pixels inside the polygon defined by \"vertices\" with the fill color    \n",
    "    cv2.fillPoly(mask, vertices, ignore_mask_color)\n",
    "    \n",
    "    #returning the image only where mask pixels are nonzero\n",
    "    masked_image = cv2.bitwise_and(img, mask)\n",
    "    return masked_image\n",
    "\n",
    "\n",
    "def draw_lines(img, lines, color=[255, 0, 0], thickness=5):\n",
    "    \"\"\"\n",
    "    NOTE: this is the function you might want to use as a starting point once you want to \n",
    "    average/extrapolate the line segments you detect to map out the full\n",
    "    extent of the lane (going from the result shown in raw-lines-example.mp4\n",
    "    to that shown in P1_example.mp4).  \n",
    "    \n",
    "    Think about things like separating line segments by their \n",
    "    slope ((y2-y1)/(x2-x1)) to decide which segments are part of the left\n",
    "    line vs. the right line.  Then, you can average the position of each of \n",
    "    the lines and extrapolate to the top and bottom of the lane.\n",
    "    \n",
    "    This function draws `lines` with `color` and `thickness`.    \n",
    "    Lines are drawn on the image inplace (mutates the image).\n",
    "    If you want to make the lines semi-transparent, think about combining\n",
    "    this function with the weighted_img() function below\n",
    "    \"\"\"\n",
    "    #Calculate slope and intercept of the lines\n",
    "    x1= lines[:,0,0]\n",
    "    y1= lines[:,0,1]\n",
    "    x2= lines[:,0,2]\n",
    "    y2= lines[:,0,3]\n",
    "    slope = ((y2-y1)/(x2-x1))\n",
    "    intercept = y2 - slope*x2\n",
    "    #Calculate average slope and intercept for lanes\n",
    "    slope_pos = np.median(slope[slope>0])\n",
    "    slope_neg = np.median(slope[slope<0])\n",
    "    #Seperate lines with positive and negative slopes and filter out outlier lines\n",
    "    y_pos = np.append(y1[slope in range(0.9*slope_pos, 1.1*slope_pos)], y2[slope in range(0.9*slope_pos, 1.1*slope_pos])\n",
    "    y_neg = np.append(y1[slope in range(0.9*slope_neg, 1.1*slope_neg], y2[slope in range(0.9*slope_neg, 1.1*slope_neg])\n",
    "    x_pos = np.append(x1[slope in range(0.9*slope_pos, 1.1*slope_pos)], x2[slope in range(0.9*slope_pos, 1.1*slope_pos])\n",
    "    x_neg = np.append(x1[slope in range(0.9*slope_pos, 1.1*slope_pos)], x2[slope in range(0.9*slope_pos, 1.1*slope_pos])\n",
    "    A = np.vstack([x_pos, np.ones(len(x_pos))]).T\n",
    "    m, c = np.linalg.lstsq(A, y_pos)[0]\n",
    "    # Draw the first lane from the bottom of picture\n",
    "    top_ind = np.argmin(y_pos)\n",
    "    #x_bottom = int((img.shape[0] - intercept_pos)/slope_pos)\n",
    "    #cv2.line(img, (x_pos[top_ind], y_pos[top_ind]), (x_bottom, img.shape[0]), color, thickness)\n",
    "    # Draw the second lane from the bottom of picture\n",
    "    #x_bottom = int((img.shape[0] - intercept_neg)/slope_neg)\n",
    "    top_ind = np.argmin(y_neg)\n",
    "    #cv2.line(img, (x_neg[top_ind], y_neg[top_ind]), (x_bottom, img.shape[0]), color, thickness)\n",
    "    for line in lines:\n",
    "        for x1,y1,x2,y2 in line:\n",
    "            cv2.line(img, (x1, y1), (x2, y2), color, thickness)\n",
    "\n",
    "def hough_lines(img, rho, theta, threshold, min_line_len, max_line_gap):\n",
    "    \"\"\"\n",
    "    `img` should be the output of a Canny transform.\n",
    "        \n",
    "    Returns an image with hough lines drawn.\n",
    "    \"\"\"\n",
    "    lines = cv2.HoughLinesP(img, rho, theta, threshold, np.array([]), minLineLength=min_line_len, maxLineGap=max_line_gap)\n",
    "    line_img = np.zeros((img.shape[0], img.shape[1], 3), dtype=np.uint8)\n",
    "    draw_lines(line_img, lines)\n",
    "    return line_img\n",
    "\n",
    "# Python 3 has support for cool math symbols.\n",
    "\n",
    "def weighted_img(img, initial_img, α=0.8, β=1., γ=0.):\n",
    "    \"\"\"\n",
    "    `img` is the output of the hough_lines(), An image with lines drawn on it.\n",
    "    Should be a blank image (all black) with lines drawn on it.\n",
    "    \n",
    "    `initial_img` should be the image before any processing.\n",
    "    \n",
    "    The result image is computed as follows:\n",
    "    \n",
    "    initial_img * α + img * β + γ\n",
    "    NOTE: initial_img and img must be the same shape!\n",
    "    \"\"\"\n",
    "    return cv2.addWeighted(initial_img, α, img, β, γ)"
   ]
  },
  {
   "cell_type": "markdown",
   "metadata": {},
   "source": [
    "## Test Images\n",
    "\n",
    "Build your pipeline to work on the images in the directory \"test_images\"  \n",
    "**You should make sure your pipeline works well on these images before you try the videos.**"
   ]
  },
  {
   "cell_type": "code",
   "execution_count": 21,
   "metadata": {
    "collapsed": false
   },
   "outputs": [],
   "source": [
    "import os\n",
    "threshold = 150 #threshold for brightness\n",
    "rho = 1 # distance resolution in pixels of the Hough grid\n",
    "theta = np.pi/180 # angular resolution in radians of the Hough grid\n",
    "threshold = 10    # minimum number of votes (intersections in Hough grid cell)\n",
    "min_line_len = 20 #minimum number of pixels making up a line\n",
    "max_line_gap = 20    # maximum gap in pixels between connectable line segments"
   ]
  },
  {
   "cell_type": "markdown",
   "metadata": {},
   "source": [
    "## Build a Lane Finding Pipeline\n",
    "\n"
   ]
  },
  {
   "cell_type": "markdown",
   "metadata": {},
   "source": [
    "Build the pipeline and run your solution on all test_images. Make copies into the `test_images_output` directory, and you can use the images in your writeup report.\n",
    "\n",
    "Try tuning the various parameters, especially the low and high Canny thresholds as well as the Hough lines parameters."
   ]
  },
  {
   "cell_type": "code",
   "execution_count": 30,
   "metadata": {
    "collapsed": false
   },
   "outputs": [
    {
     "name": "stdout",
     "output_type": "stream",
     "text": [
      "[ 0.57567568  0.55324675 -0.8        -0.84745763 -0.83050847  0.55405405\n",
      "  0.57522124 -0.79310345 -0.89655172  0.58415842 -0.60606061  0.55\n",
      " -0.84615385  0.55319149 -0.95      ]\n",
      "[ 0.62463343  0.65172414 -0.67391304 -0.69230769  0.65060241  0.64935065\n",
      " -0.69767442 -0.67346939 -0.71111111 -0.68181818 -0.68965517  0.64285714\n",
      " -0.70212766  0.59259259]\n",
      "[-0.70198675 -0.7016129  -0.73099415 -0.73125     0.58139535 -0.73214286\n",
      " -0.91666667  0.56923077  0.6         0.57777778 -0.80952381  0.53731343\n",
      " -0.0952381   0.56521739 -0.73684211  0.57142857 -0.76       -0.71428571\n",
      " -0.96296296  0.6         0.54054054]\n",
      "[-0.75735294  0.57668712 -0.75396825 -0.72540984  0.61904762  0.62037037\n",
      "  0.60869565  0.60869565 -0.77419355 -0.72463768  0.56521739  0.63157895\n",
      "  0.57763975  0.625      -0.73913043  0.47619048 -0.79310345  0.59090909\n",
      " -0.74193548 -0.74509804  0.56756757 -0.72789116 -0.73913043  0.6\n",
      " -0.77419355]\n",
      "[-0.72696246 -0.70072993  0.64485981 -0.69230769  0.62162162 -0.69811321\n",
      " -0.69047619 -0.72767857 -0.72340426  0.61016949  0.65        0.65\n",
      "  0.68181818  0.65625    -0.68965517 -0.72916667 -0.68181818  0.6\n",
      "  0.62068966 -0.68965517 -0.69512195  0.67272727]\n",
      "[-0.7539267  -0.78021978  0.6        -0.75268817  0.56521739 -0.7826087\n",
      "  0.55        0.57480315 -0.75        0.54166667 -0.78289474 -0.75362319\n",
      " -0.7826087   0.57377049  0.52173913  0.59090909  0.59259259 -0.74074074\n",
      "  0.58333333 -0.82608696  0.57692308  0.57142857  0.60869565  0.47619048\n",
      "  0.57692308 -0.83333333]\n"
     ]
    }
   ],
   "source": [
    "# TODO: Build your pipeline that will draw lane lines on the test_images\n",
    "# then save them to the test_images_output directory.\n",
    "for file in os.listdir(\"test_images/\"):\n",
    "    #Read an image\n",
    "    image = mpimg.imread(os.path.join(\"test_images/\", file))\n",
    "    line_image = np.copy(image)*0 # creating a blank to draw lines on\n",
    "    #Convert image to grayscale\n",
    "    image_gray = grayscale(image)\n",
    "    #plt.imshow(image_gray, cmap='Greys_r')\n",
    "    # make a copy of the image\n",
    "    image_filtered = np.copy(image_gray)\n",
    "    # Filter by brightness\n",
    "    image_filtered[image_gray[:] < threshold] = 0\n",
    "    # Gaussian bluring\n",
    "    image_gause = gaussian_blur(image_filtered,5)\n",
    "    #mpimg.imsave(os.path.join(\"test_images_output/\", file), image_gause)\n",
    "    # Canny\n",
    "    image_canny = canny(image_gause, 0, 255)\n",
    "    #mpimg.imsave(os.path.join(\"test_images_output/\", file), image_canny)\n",
    "    # Region of interest\n",
    "    imshape = image.shape\n",
    "    vertices = np.array([[(125,imshape[0]),(450, 325),(550, 325),(900,imshape[0])]], dtype=np.int32)\n",
    "    #print(vertices)\n",
    "    masked_edges = region_of_interest(image_canny, vertices)\n",
    "    # Save images\n",
    "    #mpimg.imsave(os.path.join(\"test_images_output/\", file), masked_edges)\n",
    "    # Display the image                 \n",
    "    #plt.imshow(masked_edges)\n",
    "    # Hough lines\n",
    "    image_hough = hough_lines(masked_edges, rho, theta, threshold, min_line_len, max_line_gap)\n",
    "    image_final = weighted_img(image_hough, image, α=0.8, β=1., γ=0.)\n",
    "    mpimg.imsave(os.path.join(\"test_images_output/\", file), image_final)"
   ]
  },
  {
   "cell_type": "markdown",
   "metadata": {},
   "source": [
    "## Test on Videos\n",
    "\n",
    "You know what's cooler than drawing lanes over images? Drawing lanes over video!\n",
    "\n",
    "We can test our solution on two provided videos:\n",
    "\n",
    "`solidWhiteRight.mp4`\n",
    "\n",
    "`solidYellowLeft.mp4`\n",
    "\n",
    "**Note: if you get an import error when you run the next cell, try changing your kernel (select the Kernel menu above --> Change Kernel). Still have problems? Try relaunching Jupyter Notebook from the terminal prompt. Also, consult the forums for more troubleshooting tips.**\n",
    "\n",
    "**If you get an error that looks like this:**\n",
    "```\n",
    "NeedDownloadError: Need ffmpeg exe. \n",
    "You can download it by calling: \n",
    "imageio.plugins.ffmpeg.download()\n",
    "```\n",
    "**Follow the instructions in the error message and check out [this forum post](https://discussions.udacity.com/t/project-error-of-test-on-videos/274082) for more troubleshooting tips across operating systems.**"
   ]
  },
  {
   "cell_type": "code",
   "execution_count": 23,
   "metadata": {
    "collapsed": true
   },
   "outputs": [],
   "source": [
    "# Import everything needed to edit/save/watch video clips\n",
    "from moviepy.editor import VideoFileClip\n",
    "from IPython.display import HTML"
   ]
  },
  {
   "cell_type": "code",
   "execution_count": 24,
   "metadata": {
    "collapsed": true
   },
   "outputs": [],
   "source": [
    "def process_image(image):\n",
    "    # NOTE: The output you return should be a color image (3 channel) for processing video below\n",
    "    # TODO: put your pipeline here,\n",
    "    # you should return the final output (image where lines are drawn on lanes)\n",
    "    line_image = np.copy(image)*0 # creating a blank to draw lines on\n",
    "    #Convert image to grayscale\n",
    "    image_gray = grayscale(image)\n",
    "    #plt.imshow(image_gray, cmap='Greys_r')\n",
    "    # make a copy of the image\n",
    "    image_filtered = np.copy(image_gray)\n",
    "    # Filter by brightness\n",
    "    image_filtered[image_gray[:] < threshold] = 0\n",
    "    # Gaussian bluring\n",
    "    image_gause = gaussian_blur(image_filtered,5)\n",
    "    #mpimg.imsave(os.path.join(\"test_images_output/\", file), image_gause)\n",
    "    # Canny\n",
    "    image_canny = canny(image_gause, 0, 255)\n",
    "    #mpimg.imsave(os.path.join(\"test_images_output/\", file), image_canny)\n",
    "    # Region of interest\n",
    "    imshape = image.shape\n",
    "    vertices = np.array([[(125,imshape[0]),(450, 325),(550, 325),(900,imshape[0])]], dtype=np.int32)\n",
    "    #print(vertices)\n",
    "    masked_edges = region_of_interest(image_canny, vertices)\n",
    "    # Save images\n",
    "    #mpimg.imsave(os.path.join(\"test_images_output/\", file), masked_edges)\n",
    "    # Display the image                 \n",
    "    #plt.imshow(masked_edges)\n",
    "    # Hough lines\n",
    "    image_hough = hough_lines(masked_edges, rho, theta, threshold, min_line_len, max_line_gap)\n",
    "    result = weighted_img(image_hough, image, α=0.8, β=1., γ=0.)\n",
    "    \n",
    "    return result"
   ]
  },
  {
   "cell_type": "markdown",
   "metadata": {},
   "source": [
    "Let's try the one with the solid white lane on the right first ..."
   ]
  },
  {
   "cell_type": "code",
   "execution_count": 26,
   "metadata": {
    "collapsed": false
   },
   "outputs": [
    {
     "name": "stdout",
     "output_type": "stream",
     "text": [
      "[MoviePy] >>>> Building video test_videos_output/solidWhiteRight.mp4\n",
      "[MoviePy] Writing video test_videos_output/solidWhiteRight.mp4\n"
     ]
    },
    {
     "name": "stderr",
     "output_type": "stream",
     "text": [
      "\n",
      "  0%|                                                  | 0/222 [00:00<?, ?it/s]\n",
      "  2%|▊                                         | 4/222 [00:00<00:06, 33.33it/s]\n",
      "  4%|█▋                                        | 9/222 [00:00<00:05, 38.46it/s]\n",
      "  6%|██▌                                      | 14/222 [00:00<00:05, 40.93it/s]\n",
      "  9%|███▌                                     | 19/222 [00:00<00:04, 42.60it/s]\n",
      " 11%|████▍                                    | 24/222 [00:00<00:04, 43.40it/s]\n",
      " 13%|█████▎                                   | 29/222 [00:00<00:04, 44.14it/s]\n",
      " 15%|██████▎                                  | 34/222 [00:00<00:04, 44.79it/s]\n",
      " 18%|███████▏                                 | 39/222 [00:00<00:04, 45.14it/s]\n",
      " 20%|████████▏                                | 44/222 [00:00<00:03, 45.03it/s]\n",
      " 22%|█████████                                | 49/222 [00:01<00:04, 39.26it/s]\n",
      " 24%|█████████▊                               | 53/222 [00:01<00:04, 36.98it/s]\n",
      " 26%|██████████▌                              | 57/222 [00:01<00:04, 35.56it/s]\n",
      " 27%|███████████                              | 60/222 [00:01<00:04, 35.21it/s]\n",
      " 28%|███████████▋                             | 63/222 [00:01<00:04, 33.49it/s]\n",
      " 30%|████████████▏                            | 66/222 [00:02<00:05, 27.71it/s]\n",
      " 31%|████████████▌                            | 68/222 [00:03<00:07, 21.74it/s]\n",
      " 32%|████████████▉                            | 70/222 [00:03<00:07, 20.02it/s]\n",
      " 32%|█████████████▎                           | 72/222 [00:03<00:08, 18.54it/s]\n",
      " 33%|█████████████▍                           | 73/222 [00:04<00:08, 17.39it/s]\n",
      " 33%|█████████████▋                           | 74/222 [00:04<00:08, 17.01it/s]\n",
      " 34%|██████████████                           | 76/222 [00:04<00:08, 16.88it/s]\n",
      " 35%|██████████████▏                          | 77/222 [00:04<00:08, 16.65it/s]\n",
      " 36%|██████████████▌                          | 79/222 [00:04<00:08, 16.44it/s]\n",
      " 36%|██████████████▉                          | 81/222 [00:04<00:08, 16.47it/s]\n",
      " 37%|███████████████▎                         | 83/222 [00:05<00:08, 16.09it/s]\n",
      " 39%|███████████████▉                         | 86/222 [00:05<00:08, 16.30it/s]\n",
      " 40%|████████████████▎                        | 88/222 [00:05<00:08, 16.25it/s]\n",
      " 41%|████████████████▌                        | 90/222 [00:05<00:08, 16.12it/s]\n",
      " 41%|████████████████▉                        | 92/222 [00:05<00:08, 16.18it/s]\n",
      " 42%|█████████████████▎                       | 94/222 [00:05<00:07, 16.24it/s]\n",
      " 43%|█████████████████▋                       | 96/222 [00:06<00:08, 15.63it/s]\n",
      " 44%|██████████████████                       | 98/222 [00:06<00:08, 15.37it/s]\n",
      " 45%|██████████████████                      | 100/222 [00:06<00:08, 15.11it/s]\n",
      " 46%|██████████████████▍                     | 102/222 [00:07<00:08, 14.00it/s]\n",
      " 46%|██████████████████▌                     | 103/222 [00:07<00:08, 13.91it/s]\n",
      " 47%|██████████████████▋                     | 104/222 [00:08<00:09, 12.89it/s]\n",
      " 47%|██████████████████▉                     | 105/222 [00:08<00:09, 12.42it/s]\n",
      " 48%|███████████████████                     | 106/222 [00:08<00:09, 12.35it/s]\n",
      " 48%|███████████████████▎                    | 107/222 [00:08<00:09, 12.31it/s]\n",
      " 49%|███████████████████▋                    | 109/222 [00:08<00:09, 12.34it/s]\n",
      " 50%|████████████████████                    | 111/222 [00:08<00:08, 12.36it/s]\n",
      " 51%|████████████████████▎                   | 113/222 [00:09<00:08, 12.35it/s]\n",
      " 52%|████████████████████▋                   | 115/222 [00:09<00:08, 12.29it/s]\n",
      " 53%|█████████████████████▎                  | 118/222 [00:09<00:08, 12.42it/s]\n",
      " 55%|█████████████████████▊                  | 121/222 [00:09<00:08, 12.60it/s]\n",
      " 56%|██████████████████████▎                 | 124/222 [00:09<00:07, 12.67it/s]\n",
      " 57%|██████████████████████▉                 | 127/222 [00:09<00:07, 12.83it/s]\n",
      " 59%|███████████████████████▍                | 130/222 [00:10<00:07, 12.97it/s]\n",
      " 60%|███████████████████████▉                | 133/222 [00:10<00:06, 13.10it/s]\n",
      " 61%|████████████████████████▌               | 136/222 [00:10<00:06, 13.15it/s]\n",
      " 63%|█████████████████████████               | 139/222 [00:10<00:06, 13.29it/s]\n",
      " 64%|█████████████████████████▌              | 142/222 [00:10<00:06, 13.20it/s]\n",
      " 65%|█████████████████████████▉              | 144/222 [00:11<00:06, 12.33it/s]\n",
      " 66%|██████████████████████████▎             | 146/222 [00:11<00:06, 12.22it/s]\n",
      " 67%|██████████████████████████▋             | 148/222 [00:12<00:06, 12.11it/s]\n",
      " 68%|███████████████████████████             | 150/222 [00:12<00:06, 11.97it/s]\n",
      " 68%|███████████████████████████▏            | 151/222 [00:12<00:06, 11.65it/s]\n",
      " 69%|███████████████████████████▌            | 153/222 [00:13<00:05, 11.69it/s]\n",
      " 69%|███████████████████████████▋            | 154/222 [00:13<00:05, 11.67it/s]\n",
      " 70%|███████████████████████████▉            | 155/222 [00:13<00:05, 11.65it/s]\n",
      " 71%|████████████████████████████▎           | 157/222 [00:13<00:05, 11.68it/s]\n",
      " 72%|████████████████████████████▋           | 159/222 [00:13<00:05, 11.69it/s]\n",
      " 73%|█████████████████████████████           | 161/222 [00:13<00:05, 11.70it/s]\n",
      " 73%|█████████████████████████████▎          | 163/222 [00:13<00:05, 11.75it/s]\n",
      " 75%|█████████████████████████████▉          | 166/222 [00:13<00:04, 11.86it/s]\n",
      " 76%|██████████████████████████████▎         | 168/222 [00:14<00:04, 11.89it/s]\n",
      " 77%|██████████████████████████████▋         | 170/222 [00:14<00:04, 11.91it/s]\n",
      " 78%|███████████████████████████████▏        | 173/222 [00:14<00:04, 12.02it/s]\n",
      " 79%|███████████████████████████████▋        | 176/222 [00:14<00:03, 12.09it/s]\n",
      " 81%|████████████████████████████████▎       | 179/222 [00:14<00:03, 12.20it/s]\n",
      " 82%|████████████████████████████████▊       | 182/222 [00:14<00:03, 12.24it/s]\n",
      " 83%|█████████████████████████████████▏      | 184/222 [00:15<00:03, 12.18it/s]\n",
      " 84%|█████████████████████████████████▌      | 186/222 [00:15<00:03, 11.99it/s]\n",
      " 85%|█████████████████████████████████▊      | 188/222 [00:16<00:02, 11.72it/s]\n",
      " 85%|██████████████████████████████████      | 189/222 [00:16<00:02, 11.60it/s]\n",
      " 86%|██████████████████████████████████▏     | 190/222 [00:16<00:02, 11.47it/s]\n",
      " 86%|██████████████████████████████████▍     | 191/222 [00:16<00:02, 11.38it/s]\n",
      " 86%|██████████████████████████████████▌     | 192/222 [00:16<00:02, 11.36it/s]\n",
      " 87%|██████████████████████████████████▊     | 193/222 [00:17<00:02, 11.31it/s]\n",
      " 87%|██████████████████████████████████▉     | 194/222 [00:17<00:02, 11.29it/s]\n",
      " 88%|███████████████████████████████████▏    | 195/222 [00:17<00:02, 11.28it/s]\n",
      " 88%|███████████████████████████████████▎    | 196/222 [00:17<00:02, 11.25it/s]\n",
      " 89%|███████████████████████████████████▍    | 197/222 [00:17<00:02, 11.24it/s]\n",
      " 90%|███████████████████████████████████▊    | 199/222 [00:17<00:02, 11.17it/s]\n",
      " 91%|████████████████████████████████████▍   | 202/222 [00:18<00:01, 11.18it/s]\n",
      " 91%|████████████████████████████████████▌   | 203/222 [00:18<00:01, 11.17it/s]\n",
      " 93%|█████████████████████████████████████   | 206/222 [00:18<00:01, 11.25it/s]\n",
      " 94%|█████████████████████████████████████▋  | 209/222 [00:18<00:01, 11.33it/s]\n",
      " 95%|██████████████████████████████████████  | 211/222 [00:18<00:00, 11.33it/s]\n",
      " 96%|██████████████████████████████████████▍ | 213/222 [00:18<00:00, 11.37it/s]\n",
      " 97%|██████████████████████████████████████▋ | 215/222 [00:18<00:00, 11.37it/s]\n",
      " 98%|███████████████████████████████████████ | 217/222 [00:19<00:00, 11.41it/s]\n",
      " 99%|███████████████████████████████████████▍| 219/222 [00:19<00:00, 11.44it/s]\n",
      "100%|███████████████████████████████████████▊| 221/222 [00:19<00:00, 11.49it/s]"
     ]
    },
    {
     "name": "stdout",
     "output_type": "stream",
     "text": [
      "[MoviePy] Done.\n",
      "[MoviePy] >>>> Video ready: test_videos_output/solidWhiteRight.mp4 \n",
      "\n",
      "Wall time: 22.7 s\n"
     ]
    }
   ],
   "source": [
    "white_output = 'test_videos_output/solidWhiteRight.mp4'\n",
    "## To speed up the testing process you may want to try your pipeline on a shorter subclip of the video\n",
    "## To do so add .subclip(start_second,end_second) to the end of the line below\n",
    "## Where start_second and end_second are integer values representing the start and end of the subclip\n",
    "## You may also uncomment the following line for a subclip of the first 5 seconds\n",
    "##clip1 = VideoFileClip(\"test_videos/solidWhiteRight.mp4\").subclip(0,5)\n",
    "clip1 = VideoFileClip(\"test_videos/solidWhiteRight.mp4\")\n",
    "white_clip = clip1.fl_image(process_image) #NOTE: this function expects color images!!\n",
    "%time white_clip.write_videofile(white_output, audio=False)"
   ]
  },
  {
   "cell_type": "markdown",
   "metadata": {},
   "source": [
    "Play the video inline, or if you prefer find the video in your filesystem (should be in the same directory) and play it in your video player of choice."
   ]
  },
  {
   "cell_type": "code",
   "execution_count": null,
   "metadata": {
    "collapsed": false
   },
   "outputs": [],
   "source": [
    "HTML(\"\"\"\n",
    "<video width=\"960\" height=\"540\" controls>\n",
    "  <source src=\"{0}\">\n",
    "</video>\n",
    "\"\"\".format(white_output))"
   ]
  },
  {
   "cell_type": "markdown",
   "metadata": {},
   "source": [
    "## Improve the draw_lines() function\n",
    "\n",
    "**At this point, if you were successful with making the pipeline and tuning parameters, you probably have the Hough line segments drawn onto the road, but what about identifying the full extent of the lane and marking it clearly as in the example video (P1_example.mp4)?  Think about defining a line to run the full length of the visible lane based on the line segments you identified with the Hough Transform. As mentioned previously, try to average and/or extrapolate the line segments you've detected to map out the full extent of the lane lines. You can see an example of the result you're going for in the video \"P1_example.mp4\".**\n",
    "\n",
    "**Go back and modify your draw_lines function accordingly and try re-running your pipeline. The new output should draw a single, solid line over the left lane line and a single, solid line over the right lane line. The lines should start from the bottom of the image and extend out to the top of the region of interest.**"
   ]
  },
  {
   "cell_type": "markdown",
   "metadata": {},
   "source": [
    "Now for the one with the solid yellow lane on the left. This one's more tricky!"
   ]
  },
  {
   "cell_type": "code",
   "execution_count": null,
   "metadata": {
    "collapsed": false
   },
   "outputs": [],
   "source": [
    "yellow_output = 'test_videos_output/solidYellowLeft.mp4'\n",
    "## To speed up the testing process you may want to try your pipeline on a shorter subclip of the video\n",
    "## To do so add .subclip(start_second,end_second) to the end of the line below\n",
    "## Where start_second and end_second are integer values representing the start and end of the subclip\n",
    "## You may also uncomment the following line for a subclip of the first 5 seconds\n",
    "##clip2 = VideoFileClip('test_videos/solidYellowLeft.mp4').subclip(0,5)\n",
    "clip2 = VideoFileClip('test_videos/solidYellowLeft.mp4')\n",
    "yellow_clip = clip2.fl_image(process_image)\n",
    "%time yellow_clip.write_videofile(yellow_output, audio=False)"
   ]
  },
  {
   "cell_type": "code",
   "execution_count": null,
   "metadata": {
    "collapsed": false
   },
   "outputs": [],
   "source": [
    "HTML(\"\"\"\n",
    "<video width=\"960\" height=\"540\" controls>\n",
    "  <source src=\"{0}\">\n",
    "</video>\n",
    "\"\"\".format(yellow_output))"
   ]
  },
  {
   "cell_type": "markdown",
   "metadata": {},
   "source": [
    "## Writeup and Submission\n",
    "\n",
    "If you're satisfied with your video outputs, it's time to make the report writeup in a pdf or markdown file. Once you have this Ipython notebook ready along with the writeup, it's time to submit for review! Here is a [link](https://github.com/udacity/CarND-LaneLines-P1/blob/master/writeup_template.md) to the writeup template file.\n"
   ]
  },
  {
   "cell_type": "markdown",
   "metadata": {
    "collapsed": true
   },
   "source": [
    "## Optional Challenge\n",
    "\n",
    "Try your lane finding pipeline on the video below.  Does it still work?  Can you figure out a way to make it more robust?  If you're up for the challenge, modify your pipeline so it works with this video and submit it along with the rest of your project!"
   ]
  },
  {
   "cell_type": "code",
   "execution_count": null,
   "metadata": {
    "collapsed": true
   },
   "outputs": [],
   "source": [
    "challenge_output = 'test_videos_output/challenge.mp4'\n",
    "## To speed up the testing process you may want to try your pipeline on a shorter subclip of the video\n",
    "## To do so add .subclip(start_second,end_second) to the end of the line below\n",
    "## Where start_second and end_second are integer values representing the start and end of the subclip\n",
    "## You may also uncomment the following line for a subclip of the first 5 seconds\n",
    "##clip3 = VideoFileClip('test_videos/challenge.mp4').subclip(0,5)\n",
    "clip3 = VideoFileClip('test_videos/challenge.mp4')\n",
    "challenge_clip = clip3.fl_image(process_image)\n",
    "%time challenge_clip.write_videofile(challenge_output, audio=False)"
   ]
  },
  {
   "cell_type": "code",
   "execution_count": null,
   "metadata": {
    "collapsed": true
   },
   "outputs": [],
   "source": [
    "HTML(\"\"\"\n",
    "<video width=\"960\" height=\"540\" controls>\n",
    "  <source src=\"{0}\">\n",
    "</video>\n",
    "\"\"\".format(challenge_output))"
   ]
  }
 ],
 "metadata": {
  "anaconda-cloud": {},
  "kernelspec": {
   "display_name": "Python [default]",
   "language": "python",
   "name": "python3"
  },
  "language_info": {
   "codemirror_mode": {
    "name": "ipython",
    "version": 3
   },
   "file_extension": ".py",
   "mimetype": "text/x-python",
   "name": "python",
   "nbconvert_exporter": "python",
   "pygments_lexer": "ipython3",
   "version": "3.6.4"
  }
 },
 "nbformat": 4,
 "nbformat_minor": 0
}
